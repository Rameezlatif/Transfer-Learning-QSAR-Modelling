{
  "nbformat": 4,
  "nbformat_minor": 0,
  "metadata": {
    "colab": {
      "provenance": []
    },
    "kernelspec": {
      "name": "python3",
      "display_name": "Python 3"
    },
    "language_info": {
      "name": "python"
    }
  },
  "cells": [
    {
      "cell_type": "code",
      "source": [
        "import pandas as pd"
      ],
      "metadata": {
        "id": "Eq9NCt-_H0lh"
      },
      "execution_count": 1,
      "outputs": []
    },
    {
      "cell_type": "code",
      "execution_count": 2,
      "metadata": {
        "colab": {
          "base_uri": "https://localhost:8080/"
        },
        "id": "9eAUWCAJHzpr",
        "outputId": "75464607-123d-4212-a6a0-1f491535f902"
      },
      "outputs": [
        {
          "output_type": "stream",
          "name": "stdout",
          "text": [
            "Unique content saved to 'unique_output.csv'\n",
            "Duplicated content saved to 'duplicates_output.csv'\n"
          ]
        }
      ],
      "source": [
        "import pandas as pd\n",
        "\n",
        "# List of CSV files to concatenate\n",
        "csv_files = [\"IRAK1_CHEMBL3357_05_bioactivity_data_2class_pIC50.csv\", \"IRAK4_CHEMBL3778_05_bioactivity_data_2class_pIC50.csv\", \"IRAK4_CHEMBL4523742_05_bioactivity_data_2class_pIC50.csv\", \"TAK1_CHEMBL5600_05_bioactivity_data_2class_pIC50.csv\", \"TAK1_CHEMBL5716_05_bioactivity_data_2class_pIC50.csv\", \"TAK1_CHEMBL5776_05_bioactivity_data_2class_pIC50.csv\" , \"TAK1_CHEMBL3038499_05_bioactivity_data_2class_pIC50.csv\" , \"TAK1_CHEMBL3885612_05_bioactivity_data_2class_pIC50.csv\", \"TRAF6_3883289_05_bioactivity_data_2class_pIC50.csv\"]  # Replace with your file names\n",
        "\n",
        "# Read and concatenate CSV files into a single DataFrame\n",
        "dfs = [pd.read_csv(file) for file in csv_files]\n",
        "concatenated_df = pd.concat(dfs, ignore_index=True)\n",
        "\n",
        "# Find duplicate rows based on all columns\n",
        "duplicates_df = concatenated_df[concatenated_df.duplicated(keep=False)]\n",
        "\n",
        "# Remove duplicates from the concatenated DataFrame\n",
        "unique_df = concatenated_df.drop_duplicates(keep=False)\n",
        "\n",
        "# Write unique and duplicate DataFrames to separate CSV files\n",
        "unique_df.to_csv(\"unique_output.csv\", index=False)\n",
        "duplicates_df.to_csv(\"duplicates_output.csv\", index=False)\n",
        "\n",
        "print(\"Unique content saved to 'unique_output.csv'\")\n",
        "print(\"Duplicated content saved to 'duplicates_output.csv'\")\n"
      ]
    }
  ]
}